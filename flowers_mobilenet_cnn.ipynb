{
 "cells": [
  {
   "cell_type": "code",
   "execution_count": 1,
   "metadata": {},
   "outputs": [],
   "source": [
    "import tensorflow as tf\n",
    "import tensorflow_hub as hub\n",
    "import tensorflow_datasets as tfds\n",
    "\n",
    "from tensorflow.keras import layers"
   ]
  },
  {
   "cell_type": "code",
   "execution_count": 2,
   "metadata": {},
   "outputs": [
    {
     "name": "stderr",
     "output_type": "stream",
     "text": [
      "2021-12-20 16:34:09.715399: W tensorflow/core/platform/cloud/google_auth_provider.cc:184] All attempts to get a Google authentication bearer token failed, returning an empty token. Retrieving token from files failed with \"Not found: Could not locate the credentials file.\". Retrieving token from GCE failed with \"Failed precondition: Error executing an HTTP request: libcurl code 6 meaning 'Couldn't resolve host name', error details: Could not resolve host: metadata\".\n"
     ]
    },
    {
     "name": "stdout",
     "output_type": "stream",
     "text": [
      "\u001b[1mDownloading and preparing dataset 218.21 MiB (download: 218.21 MiB, generated: 221.83 MiB, total: 440.05 MiB) to /Users/Oliver/tensorflow_datasets/tf_flowers/3.0.1...\u001b[0m\n"
     ]
    },
    {
     "name": "stderr",
     "output_type": "stream",
     "text": [
      "Dl Completed...: 100%|██████████| 5/5 [04:01<00:00, 48.38s/ file]\n",
      "2021-12-20 16:38:14.292874: I tensorflow/core/platform/cpu_feature_guard.cc:142] This TensorFlow binary is optimized with oneAPI Deep Neural Network Library (oneDNN) to use the following CPU instructions in performance-critical operations:  SSE4.1 SSE4.2 AVX AVX2 FMA\n",
      "To enable them in other operations, rebuild TensorFlow with the appropriate compiler flags.\n"
     ]
    },
    {
     "name": "stdout",
     "output_type": "stream",
     "text": [
      "\u001b[1mDataset tf_flowers downloaded and prepared to /Users/Oliver/tensorflow_datasets/tf_flowers/3.0.1. Subsequent calls will reuse this data.\u001b[0m\n"
     ]
    },
    {
     "data": {
      "text/plain": [
       "([<PrefetchDataset shapes: ((None, None, 3), ()), types: (tf.uint8, tf.int64)>,\n",
       "  <PrefetchDataset shapes: ((None, None, 3), ()), types: (tf.uint8, tf.int64)>],\n",
       " tfds.core.DatasetInfo(\n",
       "     name='tf_flowers',\n",
       "     full_name='tf_flowers/3.0.1',\n",
       "     description=\"\"\"\n",
       "     A large set of images of flowers\n",
       "     \"\"\",\n",
       "     homepage='https://www.tensorflow.org/tutorials/load_data/images',\n",
       "     data_path='/Users/Oliver/tensorflow_datasets/tf_flowers/3.0.1',\n",
       "     download_size=218.21 MiB,\n",
       "     dataset_size=221.83 MiB,\n",
       "     features=FeaturesDict({\n",
       "         'image': Image(shape=(None, None, 3), dtype=tf.uint8),\n",
       "         'label': ClassLabel(shape=(), dtype=tf.int64, num_classes=5),\n",
       "     }),\n",
       "     supervised_keys=('image', 'label'),\n",
       "     disable_shuffling=False,\n",
       "     splits={\n",
       "         'train': <SplitInfo num_examples=3670, num_shards=2>,\n",
       "     },\n",
       "     citation=\"\"\"@ONLINE {tfflowers,\n",
       "     author = \"The TensorFlow Team\",\n",
       "     title = \"Flowers\",\n",
       "     month = \"jan\",\n",
       "     year = \"2019\",\n",
       "     url = \"http://download.tensorflow.org/example_images/flower_photos.tgz\" }\"\"\",\n",
       " ))"
      ]
     },
     "execution_count": 2,
     "metadata": {},
     "output_type": "execute_result"
    }
   ],
   "source": [
    "ds = tfds.load(\"tf_flowers\", split=['train[:70%]', 'train[70%:]'], with_info=True, as_supervised=True,)\n",
    "ds"
   ]
  }
 ],
 "metadata": {
  "interpreter": {
   "hash": "51778e8e8292e0b3443c55a47be8791e1ee09e2efff662a3caf6724474186ab1"
  },
  "kernelspec": {
   "display_name": "Python 3.9.7 64-bit ('bioi': conda)",
   "language": "python",
   "name": "python3"
  },
  "language_info": {
   "codemirror_mode": {
    "name": "ipython",
    "version": 3
   },
   "file_extension": ".py",
   "mimetype": "text/x-python",
   "name": "python",
   "nbconvert_exporter": "python",
   "pygments_lexer": "ipython3",
   "version": "3.9.7"
  },
  "orig_nbformat": 4
 },
 "nbformat": 4,
 "nbformat_minor": 2
}
